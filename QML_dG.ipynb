{
  "nbformat": 4,
  "nbformat_minor": 0,
  "metadata": {
    "anaconda-cloud": {},
    "kernelspec": {
      "display_name": "Python 3",
      "language": "python",
      "name": "python3"
    },
    "language_info": {
      "codemirror_mode": {
        "name": "ipython",
        "version": 3
      },
      "file_extension": ".py",
      "mimetype": "text/x-python",
      "name": "python",
      "nbconvert_exporter": "python",
      "pygments_lexer": "ipython3",
      "version": "3.6.5"
    },
    "colab": {
      "name": "QML_Tutorial.ipynb",
      "provenance": [],
      "collapsed_sections": [],
      "toc_visible": true
    }
  },
  "cells": [
    {
      "cell_type": "markdown",
      "metadata": {
        "id": "DUg6i1Iua3C9",
        "colab_type": "text"
      },
      "source": [
        "# QML Tutorial\n",
        "\n",
        "by Anders S. Christensen."
      ]
    },
    {
      "cell_type": "markdown",
      "metadata": {
        "id": "jEv7zfi2a3DQ",
        "colab_type": "text"
      },
      "source": [
        "This tutorial is a general introduction to kernel-ridge regression with Quantum Machine Learning (QML).\n",
        "\n",
        "QML is freely available under the terms of the MIT open-source license. However, we ask that you properly cite the relevant, underlying work in your published work (provided below).\n",
        "\n",
        "##### QML Citation: \n",
        "AS Christensen, FA Faber, B Huang, LA Bratholm, A Tkatchenko, KR Müller, OA von Lilienfeld (2017) \"QML: A Python Toolkit for Quantum Machine Learning\" https://github.com/qmlcode/qml\n",
        "\n",
        "##### Theory Citation:\n",
        "[Rupp et al, Phys Rev Letters, 2012](https://journals.aps.org/prl/abstract/10.1103/PhysRevLett.108.058301)\n",
        "\n",
        "[Montavon et al, New J Phys, 2013](http://iopscience.iop.org/article/10.1088/1367-2630/15/9/095003/meta)\n"
      ]
    },
    {
      "cell_type": "markdown",
      "metadata": {
        "id": "C9jCSwIJa3Dr",
        "colab_type": "text"
      },
      "source": [
        "## Theory \n",
        "Regression model of some property, \n",
        "\n",
        "\\begin{equation*}\n",
        "y\n",
        "\\end{equation*}\n",
        "\n",
        "for some system, \n",
        "\n",
        "\\begin{equation*}\n",
        "\\widetilde{\\mathbf{X}}\n",
        "\\end{equation*}\n",
        "\n",
        "this could correspond to e.g. the atomization energy of a molecule:\n",
        "\n",
        "\\begin{equation*}\n",
        "y\\left(\\widetilde{\\mathbf{X}} \\right) = \\sum_i \\alpha_i \\  K\\left( \\widetilde{\\mathbf{X}}, \\mathbf{X}_i\\right)\n",
        "\\end{equation*}\n",
        "\n",
        "E.g. Using Gaussian kernel function with Frobenius norm:\n",
        "\n",
        "\\begin{equation*}\n",
        "K_{ij} = K\\left( \\mathbf{X}_i, \\mathbf{X}_j\\right) = \\exp\\left( -\\frac{\\| \\mathbf{X}_i - \\mathbf{X}_j\\|_2^2}{2\\sigma^2}\\right)\n",
        "\\end{equation*}\n",
        "\n",
        "Regression coefficients are obtained through kernel matrix inversion and multiplication with reference labels\n",
        "\n",
        "\\begin{equation*}\n",
        "\\boldsymbol{\\alpha} = (\\mathbf{K} + \\lambda \\mathbf{I})^{-1} \\mathbf{y}\n",
        "\\end{equation*}"
      ]
    },
    {
      "cell_type": "markdown",
      "metadata": {
        "id": "nlNZB-gsa3Dx",
        "colab_type": "text"
      },
      "source": [
        "## Load QML into Jupyter Notebook"
      ]
    },
    {
      "cell_type": "code",
      "metadata": {
        "id": "JXlxEIrjdvFZ",
        "colab_type": "code",
        "outputId": "a1b4af6f-9197-4df7-9d21-8fc852001ed0",
        "colab": {
          "base_uri": "https://localhost:8080/",
          "height": 1000
        }
      },
      "source": [
        "!sudo apt-get install python-pip gfortran libblas-dev liblapack-dev git"
      ],
      "execution_count": 0,
      "outputs": [
        {
          "output_type": "stream",
          "text": [
            "Reading package lists... Done\n",
            "Building dependency tree       \n",
            "Reading state information... Done\n",
            "liblapack-dev is already the newest version (3.7.1-4ubuntu1).\n",
            "gfortran is already the newest version (4:7.4.0-1ubuntu2.3).\n",
            "git is already the newest version (1:2.17.1-1ubuntu0.5).\n",
            "The following additional packages will be installed:\n",
            "  libblas3 libpython-all-dev python-all python-all-dev python-asn1crypto\n",
            "  python-cffi-backend python-crypto python-cryptography python-dbus\n",
            "  python-enum34 python-gi python-idna python-ipaddress python-keyring\n",
            "  python-keyrings.alt python-pip-whl python-pkg-resources python-secretstorage\n",
            "  python-setuptools python-six python-wheel python-xdg\n",
            "Suggested packages:\n",
            "  liblapack-doc python-crypto-doc python-cryptography-doc\n",
            "  python-cryptography-vectors python-dbus-dbg python-dbus-doc\n",
            "  python-enum34-doc python-gi-cairo gnome-keyring libkf5wallet-bin\n",
            "  gir1.2-gnomekeyring-1.0 python-fs python-gdata python-keyczar\n",
            "  python-secretstorage-doc python-setuptools-doc\n",
            "The following NEW packages will be installed:\n",
            "  libblas-dev libblas3 libpython-all-dev python-all python-all-dev\n",
            "  python-asn1crypto python-cffi-backend python-crypto python-cryptography\n",
            "  python-dbus python-enum34 python-gi python-idna python-ipaddress\n",
            "  python-keyring python-keyrings.alt python-pip python-pip-whl\n",
            "  python-pkg-resources python-secretstorage python-setuptools python-six\n",
            "  python-wheel python-xdg\n",
            "0 upgraded, 24 newly installed, 0 to remove and 25 not upgraded.\n",
            "Need to get 3,659 kB of archives.\n",
            "After this operation, 12.0 MB of additional disk space will be used.\n",
            "Get:1 http://archive.ubuntu.com/ubuntu bionic/main amd64 libblas3 amd64 3.7.1-4ubuntu1 [140 kB]\n",
            "Get:2 http://archive.ubuntu.com/ubuntu bionic/main amd64 libblas-dev amd64 3.7.1-4ubuntu1 [143 kB]\n",
            "Get:3 http://archive.ubuntu.com/ubuntu bionic/main amd64 libpython-all-dev amd64 2.7.15~rc1-1 [1,092 B]\n",
            "Get:4 http://archive.ubuntu.com/ubuntu bionic/main amd64 python-all amd64 2.7.15~rc1-1 [1,076 B]\n",
            "Get:5 http://archive.ubuntu.com/ubuntu bionic/main amd64 python-all-dev amd64 2.7.15~rc1-1 [1,100 B]\n",
            "Get:6 http://archive.ubuntu.com/ubuntu bionic/main amd64 python-asn1crypto all 0.24.0-1 [72.7 kB]\n",
            "Get:7 http://archive.ubuntu.com/ubuntu bionic/main amd64 python-cffi-backend amd64 1.11.5-1 [63.4 kB]\n",
            "Get:8 http://archive.ubuntu.com/ubuntu bionic/main amd64 python-crypto amd64 2.6.1-8ubuntu2 [244 kB]\n",
            "Get:9 http://archive.ubuntu.com/ubuntu bionic/main amd64 python-enum34 all 1.1.6-2 [34.8 kB]\n",
            "Get:10 http://archive.ubuntu.com/ubuntu bionic/main amd64 python-idna all 2.6-1 [32.4 kB]\n",
            "Get:11 http://archive.ubuntu.com/ubuntu bionic/main amd64 python-ipaddress all 1.0.17-1 [18.2 kB]\n",
            "Get:12 http://archive.ubuntu.com/ubuntu bionic/main amd64 python-six all 1.11.0-2 [11.3 kB]\n",
            "Get:13 http://archive.ubuntu.com/ubuntu bionic-updates/main amd64 python-cryptography amd64 2.1.4-1ubuntu1.3 [221 kB]\n",
            "Get:14 http://archive.ubuntu.com/ubuntu bionic/main amd64 python-dbus amd64 1.2.6-1 [90.2 kB]\n",
            "Get:15 http://archive.ubuntu.com/ubuntu bionic-updates/main amd64 python-gi amd64 3.26.1-2ubuntu1 [197 kB]\n",
            "Get:16 http://archive.ubuntu.com/ubuntu bionic/main amd64 python-secretstorage all 2.3.1-2 [11.8 kB]\n",
            "Get:17 http://archive.ubuntu.com/ubuntu bionic/main amd64 python-keyring all 10.6.0-1 [30.6 kB]\n",
            "Get:18 http://archive.ubuntu.com/ubuntu bionic/main amd64 python-keyrings.alt all 3.0-1 [16.7 kB]\n",
            "Get:19 http://archive.ubuntu.com/ubuntu bionic-updates/universe amd64 python-pip-whl all 9.0.1-2.3~ubuntu1.18.04.1 [1,653 kB]\n",
            "Get:20 http://archive.ubuntu.com/ubuntu bionic-updates/universe amd64 python-pip all 9.0.1-2.3~ubuntu1.18.04.1 [151 kB]\n",
            "Get:21 http://archive.ubuntu.com/ubuntu bionic/main amd64 python-pkg-resources all 39.0.1-2 [128 kB]\n",
            "Get:22 http://archive.ubuntu.com/ubuntu bionic/main amd64 python-setuptools all 39.0.1-2 [329 kB]\n",
            "Get:23 http://archive.ubuntu.com/ubuntu bionic/universe amd64 python-wheel all 0.30.0-0.2 [36.4 kB]\n",
            "Get:24 http://archive.ubuntu.com/ubuntu bionic/universe amd64 python-xdg all 0.25-4ubuntu1 [31.3 kB]\n",
            "Fetched 3,659 kB in 1s (3,354 kB/s)\n",
            "debconf: unable to initialize frontend: Dialog\n",
            "debconf: (No usable dialog-like program is installed, so the dialog based frontend cannot be used. at /usr/share/perl5/Debconf/FrontEnd/Dialog.pm line 76, <> line 24.)\n",
            "debconf: falling back to frontend: Readline\n",
            "debconf: unable to initialize frontend: Readline\n",
            "debconf: (This frontend requires a controlling tty.)\n",
            "debconf: falling back to frontend: Teletype\n",
            "dpkg-preconfigure: unable to re-open stdin: \n",
            "Selecting previously unselected package libblas3:amd64.\n",
            "(Reading database ... 144568 files and directories currently installed.)\n",
            "Preparing to unpack .../00-libblas3_3.7.1-4ubuntu1_amd64.deb ...\n",
            "Unpacking libblas3:amd64 (3.7.1-4ubuntu1) ...\n",
            "Selecting previously unselected package libblas-dev:amd64.\n",
            "Preparing to unpack .../01-libblas-dev_3.7.1-4ubuntu1_amd64.deb ...\n",
            "Unpacking libblas-dev:amd64 (3.7.1-4ubuntu1) ...\n",
            "Selecting previously unselected package libpython-all-dev:amd64.\n",
            "Preparing to unpack .../02-libpython-all-dev_2.7.15~rc1-1_amd64.deb ...\n",
            "Unpacking libpython-all-dev:amd64 (2.7.15~rc1-1) ...\n",
            "Selecting previously unselected package python-all.\n",
            "Preparing to unpack .../03-python-all_2.7.15~rc1-1_amd64.deb ...\n",
            "Unpacking python-all (2.7.15~rc1-1) ...\n",
            "Selecting previously unselected package python-all-dev.\n",
            "Preparing to unpack .../04-python-all-dev_2.7.15~rc1-1_amd64.deb ...\n",
            "Unpacking python-all-dev (2.7.15~rc1-1) ...\n",
            "Selecting previously unselected package python-asn1crypto.\n",
            "Preparing to unpack .../05-python-asn1crypto_0.24.0-1_all.deb ...\n",
            "Unpacking python-asn1crypto (0.24.0-1) ...\n",
            "Selecting previously unselected package python-cffi-backend.\n",
            "Preparing to unpack .../06-python-cffi-backend_1.11.5-1_amd64.deb ...\n",
            "Unpacking python-cffi-backend (1.11.5-1) ...\n",
            "Selecting previously unselected package python-crypto.\n",
            "Preparing to unpack .../07-python-crypto_2.6.1-8ubuntu2_amd64.deb ...\n",
            "Unpacking python-crypto (2.6.1-8ubuntu2) ...\n",
            "Selecting previously unselected package python-enum34.\n",
            "Preparing to unpack .../08-python-enum34_1.1.6-2_all.deb ...\n",
            "Unpacking python-enum34 (1.1.6-2) ...\n",
            "Selecting previously unselected package python-idna.\n",
            "Preparing to unpack .../09-python-idna_2.6-1_all.deb ...\n",
            "Unpacking python-idna (2.6-1) ...\n",
            "Selecting previously unselected package python-ipaddress.\n",
            "Preparing to unpack .../10-python-ipaddress_1.0.17-1_all.deb ...\n",
            "Unpacking python-ipaddress (1.0.17-1) ...\n",
            "Selecting previously unselected package python-six.\n",
            "Preparing to unpack .../11-python-six_1.11.0-2_all.deb ...\n",
            "Unpacking python-six (1.11.0-2) ...\n",
            "Selecting previously unselected package python-cryptography.\n",
            "Preparing to unpack .../12-python-cryptography_2.1.4-1ubuntu1.3_amd64.deb ...\n",
            "Unpacking python-cryptography (2.1.4-1ubuntu1.3) ...\n",
            "Selecting previously unselected package python-dbus.\n",
            "Preparing to unpack .../13-python-dbus_1.2.6-1_amd64.deb ...\n",
            "Unpacking python-dbus (1.2.6-1) ...\n",
            "Selecting previously unselected package python-gi.\n",
            "Preparing to unpack .../14-python-gi_3.26.1-2ubuntu1_amd64.deb ...\n",
            "Unpacking python-gi (3.26.1-2ubuntu1) ...\n",
            "Selecting previously unselected package python-secretstorage.\n",
            "Preparing to unpack .../15-python-secretstorage_2.3.1-2_all.deb ...\n",
            "Unpacking python-secretstorage (2.3.1-2) ...\n",
            "Selecting previously unselected package python-keyring.\n",
            "Preparing to unpack .../16-python-keyring_10.6.0-1_all.deb ...\n",
            "Unpacking python-keyring (10.6.0-1) ...\n",
            "Selecting previously unselected package python-keyrings.alt.\n",
            "Preparing to unpack .../17-python-keyrings.alt_3.0-1_all.deb ...\n",
            "Unpacking python-keyrings.alt (3.0-1) ...\n",
            "Selecting previously unselected package python-pip-whl.\n",
            "Preparing to unpack .../18-python-pip-whl_9.0.1-2.3~ubuntu1.18.04.1_all.deb ...\n",
            "Unpacking python-pip-whl (9.0.1-2.3~ubuntu1.18.04.1) ...\n",
            "Selecting previously unselected package python-pip.\n",
            "Preparing to unpack .../19-python-pip_9.0.1-2.3~ubuntu1.18.04.1_all.deb ...\n",
            "Unpacking python-pip (9.0.1-2.3~ubuntu1.18.04.1) ...\n",
            "Selecting previously unselected package python-pkg-resources.\n",
            "Preparing to unpack .../20-python-pkg-resources_39.0.1-2_all.deb ...\n",
            "Unpacking python-pkg-resources (39.0.1-2) ...\n",
            "Selecting previously unselected package python-setuptools.\n",
            "Preparing to unpack .../21-python-setuptools_39.0.1-2_all.deb ...\n",
            "Unpacking python-setuptools (39.0.1-2) ...\n",
            "Selecting previously unselected package python-wheel.\n",
            "Preparing to unpack .../22-python-wheel_0.30.0-0.2_all.deb ...\n",
            "Unpacking python-wheel (0.30.0-0.2) ...\n",
            "Selecting previously unselected package python-xdg.\n",
            "Preparing to unpack .../23-python-xdg_0.25-4ubuntu1_all.deb ...\n",
            "Unpacking python-xdg (0.25-4ubuntu1) ...\n",
            "Setting up python-idna (2.6-1) ...\n",
            "Setting up python-pip-whl (9.0.1-2.3~ubuntu1.18.04.1) ...\n",
            "Setting up python-asn1crypto (0.24.0-1) ...\n",
            "Setting up python-crypto (2.6.1-8ubuntu2) ...\n",
            "Setting up python-wheel (0.30.0-0.2) ...\n",
            "Setting up libpython-all-dev:amd64 (2.7.15~rc1-1) ...\n",
            "Setting up python-pkg-resources (39.0.1-2) ...\n",
            "Setting up python-cffi-backend (1.11.5-1) ...\n",
            "Setting up python-gi (3.26.1-2ubuntu1) ...\n",
            "Setting up libblas3:amd64 (3.7.1-4ubuntu1) ...\n",
            "Setting up python-six (1.11.0-2) ...\n",
            "Setting up python-enum34 (1.1.6-2) ...\n",
            "Setting up python-dbus (1.2.6-1) ...\n",
            "Setting up python-ipaddress (1.0.17-1) ...\n",
            "Setting up python-pip (9.0.1-2.3~ubuntu1.18.04.1) ...\n",
            "Setting up python-all (2.7.15~rc1-1) ...\n",
            "Setting up python-xdg (0.25-4ubuntu1) ...\n",
            "Setting up python-setuptools (39.0.1-2) ...\n",
            "Setting up libblas-dev:amd64 (3.7.1-4ubuntu1) ...\n",
            "Setting up python-keyrings.alt (3.0-1) ...\n",
            "Setting up python-all-dev (2.7.15~rc1-1) ...\n",
            "Setting up python-cryptography (2.1.4-1ubuntu1.3) ...\n",
            "Setting up python-secretstorage (2.3.1-2) ...\n",
            "Setting up python-keyring (10.6.0-1) ...\n",
            "Processing triggers for man-db (2.8.3-2ubuntu0.1) ...\n"
          ],
          "name": "stdout"
        }
      ]
    },
    {
      "cell_type": "code",
      "metadata": {
        "id": "hpq20ImXbmSM",
        "colab_type": "code",
        "outputId": "0c5d8b5d-258b-4407-9a87-e9631644fc59",
        "colab": {
          "base_uri": "https://localhost:8080/",
          "height": 221
        }
      },
      "source": [
        "!pip install qml # --user -U"
      ],
      "execution_count": 0,
      "outputs": [
        {
          "output_type": "stream",
          "text": [
            "Collecting qml\n",
            "\u001b[?25l  Downloading https://files.pythonhosted.org/packages/7b/f3/c08d18659054cdf5e5dc531ee32ab20e6aa1d3772545837557828a03b1f5/qml-0.4.0.27.tar.gz (41kB)\n",
            "\r\u001b[K     |███████▉                        | 10kB 18.2MB/s eta 0:00:01\r\u001b[K     |███████████████▊                | 20kB 1.7MB/s eta 0:00:01\r\u001b[K     |███████████████████████▋        | 30kB 2.5MB/s eta 0:00:01\r\u001b[K     |███████████████████████████████▌| 40kB 3.3MB/s eta 0:00:01\r\u001b[K     |████████████████████████████████| 51kB 2.9MB/s \n",
            "\u001b[?25hBuilding wheels for collected packages: qml\n",
            "  Building wheel for qml (setup.py) ... \u001b[?25l\u001b[?25hdone\n",
            "  Created wheel for qml: filename=qml-0.4.0.27-cp36-cp36m-linux_x86_64.whl size=976073 sha256=f5bbfc638b9d5de247ffd3b05321cbe9826923df9d166a36d221300dbd211dd4\n",
            "  Stored in directory: /root/.cache/pip/wheels/ed/12/cf/9f6f875260ccc47dbdbd131631c416e24c933c84a8a20e2bc8\n",
            "Successfully built qml\n",
            "Installing collected packages: qml\n",
            "Successfully installed qml-0.4.0.27\n"
          ],
          "name": "stdout"
        }
      ]
    },
    {
      "cell_type": "code",
      "metadata": {
        "id": "d2mhpLpLa3D3",
        "colab_type": "code",
        "outputId": "b30ada20-7295-4d96-c032-9bdb584128f6",
        "colab": {
          "base_uri": "https://localhost:8080/",
          "height": 90
        }
      },
      "source": [
        "from __future__ import print_function\n",
        "\n",
        "import sys\n",
        "print(\"Printing version info for help reporting bugs\")\n",
        "print(\"Python version:\", sys.version)\n",
        "\n",
        "import numpy as np\n",
        "import matplotlib.pyplot as plt\n",
        "%matplotlib inline\n",
        "\n",
        "try:\n",
        "    import qml\n",
        "    from qml.kernels import gaussian_kernel\n",
        "    from qml.kernels import laplacian_kernel\n",
        "    from qml.math import cho_solve\n",
        "    print(\"QML version:\",qml.__version__)\n",
        "except ImportError:\n",
        "    print(\"Failed to find QML\")\n",
        "    print(\"Please follow instructions here: http://www.qmlcode.org/installation.html\")\n"
      ],
      "execution_count": 0,
      "outputs": [
        {
          "output_type": "stream",
          "text": [
            "Printing version info for help reporting bugs\n",
            "Python version: 3.6.9 (default, Nov  7 2019, 10:44:02) \n",
            "[GCC 8.3.0]\n",
            "QML version: 0.2.1\n"
          ],
          "name": "stdout"
        }
      ]
    },
    {
      "cell_type": "code",
      "metadata": {
        "id": "Bf2TPa_ZhwPm",
        "colab_type": "code",
        "outputId": "5c313bad-d633-46aa-948f-3cc222c0d899",
        "colab": {
          "base_uri": "https://localhost:8080/",
          "height": 72
        }
      },
      "source": [
        "!git clone https://github.com/qmlcode/tutorial.git"
      ],
      "execution_count": 0,
      "outputs": [
        {
          "output_type": "stream",
          "text": [
            "Cloning into 'qmlcode'...\n",
            "remote: Not Found\n",
            "fatal: repository 'https://github.com/qmlcode.git/' not found\n"
          ],
          "name": "stdout"
        }
      ]
    },
    {
      "cell_type": "code",
      "metadata": {
        "id": "sbGlq6Ssd1zZ",
        "colab_type": "code",
        "outputId": "375cbb4b-bbb6-4544-8671-20a7afc479c3",
        "colab": {
          "base_uri": "https://localhost:8080/",
          "height": 129
        }
      },
      "source": [
        "\n",
        "from google.colab import drive\n",
        "drive.mount('/content/drive')"
      ],
      "execution_count": 0,
      "outputs": [
        {
          "output_type": "stream",
          "text": [
            "Go to this URL in a browser: https://accounts.google.com/o/oauth2/auth?client_id=947318989803-6bn6qk8qdgf4n4g3pfee6491hc0brc4i.apps.googleusercontent.com&redirect_uri=urn%3aietf%3awg%3aoauth%3a2.0%3aoob&response_type=code&scope=email%20https%3a%2f%2fwww.googleapis.com%2fauth%2fdocs.test%20https%3a%2f%2fwww.googleapis.com%2fauth%2fdrive%20https%3a%2f%2fwww.googleapis.com%2fauth%2fdrive.photos.readonly%20https%3a%2f%2fwww.googleapis.com%2fauth%2fpeopleapi.readonly\n",
            "\n",
            "Enter your authorization code:\n",
            "··········\n",
            "Mounted at /content/drive\n"
          ],
          "name": "stdout"
        }
      ]
    },
    {
      "cell_type": "markdown",
      "metadata": {
        "id": "Zd5zgTD9a3EZ",
        "colab_type": "text"
      },
      "source": [
        "## Tutorial exercises\n",
        "\n",
        "If you got this notebook without the repo, please clone the following GIT repository to access the necessary scripts and QM7 dataset (atomization energies and relaxed geometries at PBE0/def2-TZVP level of theory) for ~7k GDB1-7 molecules. \n",
        "[Ruddigkeit et al, J Chem Inf Model, 2012](https://pubs.acs.org/doi/abs/10.1021/ci300415d)\n",
        "[Rupp et al, Phys Rev Letters, 2012](https://journals.aps.org/prl/abstract/10.1103/PhysRevLett.108.058301)\n",
        "\n",
        "git clone https://github.com/qmlcode/tutorial.git\n",
        "\n",
        "Additionally, the repository contains Python3 scripts with the solutions to each exercise."
      ]
    },
    {
      "cell_type": "markdown",
      "metadata": {
        "id": "NwXil6pVa3Ee",
        "colab_type": "text"
      },
      "source": [
        "# Exercise 1: Representations\n",
        "\n",
        "In this exercise we use QML to generate the Coulomb matrix and Bag of bonds (BoB) representations. [Montavon et al, New J Phys, 2013](http://iopscience.iop.org/article/10.1088/1367-2630/15/9/095003/meta)\n",
        "In QML data can be parsed via the <font color=red>Compound</font> class, which stores data and generates representations in Numpy's ndarray format.\n",
        "If you run the code below, you will read in the file <font color=red>qm7/0001.xyz</font> (a methane molecule) and generate a coulomb matrix representation (sorted by row-norm) and a BoB representation."
      ]
    },
    {
      "cell_type": "code",
      "metadata": {
        "id": "YEVx7NowgPKU",
        "colab_type": "code",
        "colab": {}
      },
      "source": [
        "sys.path.append('/content/drive/My Drive')\n",
        "path = \"drive/My Drive/Master/Kaishi/qml/xyz/\"\n",
        "sys.path.append('/content/tutorial')"
      ],
      "execution_count": 0,
      "outputs": []
    },
    {
      "cell_type": "code",
      "metadata": {
        "id": "2apGl6uoa3Ei",
        "colab_type": "code",
        "outputId": "eba9637f-4d20-43f9-bccb-3a21c2d6e427",
        "colab": {
          "base_uri": "https://localhost:8080/",
          "height": 246
        }
      },
      "source": [
        "# Create the compound object mol from the file qm7/0001.xyz which happens to be methane\n",
        "mol = qml.Compound(xyz=path+str(0)+\"+0.xyz\")\n",
        "\n",
        "# Generate and print a coulomb matrix for compound with 5 atoms \n",
        "mol.generate_coulomb_matrix(size=21, sorting=\"row-norm\")\n",
        "print(mol.representation)\n",
        "\n",
        "# Generate and print BoB bags for compound containing C and H\n",
        "#mol.generate_bob(asize={\"C\":2, \"H\":5})\n",
        "#print(mol.representation)"
      ],
      "execution_count": 0,
      "outputs": [
        {
          "output_type": "error",
          "ename": "NameError",
          "evalue": "ignored",
          "traceback": [
            "\u001b[0;31m---------------------------------------------------------------------------\u001b[0m",
            "\u001b[0;31mNameError\u001b[0m                                 Traceback (most recent call last)",
            "\u001b[0;32m<ipython-input-10-b1da1de313cb>\u001b[0m in \u001b[0;36m<module>\u001b[0;34m()\u001b[0m\n\u001b[0;32m----> 1\u001b[0;31m \u001b[0mmol\u001b[0m \u001b[0;34m=\u001b[0m \u001b[0mqml\u001b[0m\u001b[0;34m.\u001b[0m\u001b[0mCompound\u001b[0m\u001b[0;34m(\u001b[0m\u001b[0mxyz\u001b[0m\u001b[0;34m=\u001b[0m\u001b[0mpath\u001b[0m\u001b[0;34m+\u001b[0m\u001b[0mstr\u001b[0m\u001b[0;34m(\u001b[0m\u001b[0;36m0\u001b[0m\u001b[0;34m)\u001b[0m\u001b[0;34m+\u001b[0m\u001b[0;34m\"+0.xyz\"\u001b[0m\u001b[0;34m)\u001b[0m\u001b[0;34m\u001b[0m\u001b[0;34m\u001b[0m\u001b[0m\n\u001b[0m\u001b[1;32m      2\u001b[0m \u001b[0;34m\u001b[0m\u001b[0m\n\u001b[1;32m      3\u001b[0m \u001b[0;31m# Generate and print a coulomb matrix for compound with 5 atoms\u001b[0m\u001b[0;34m\u001b[0m\u001b[0;34m\u001b[0m\u001b[0;34m\u001b[0m\u001b[0m\n\u001b[1;32m      4\u001b[0m \u001b[0mmol\u001b[0m\u001b[0;34m.\u001b[0m\u001b[0mgenerate_coulomb_matrix\u001b[0m\u001b[0;34m(\u001b[0m\u001b[0msize\u001b[0m\u001b[0;34m=\u001b[0m\u001b[0;36m21\u001b[0m\u001b[0;34m,\u001b[0m \u001b[0msorting\u001b[0m\u001b[0;34m=\u001b[0m\u001b[0;34m\"row-norm\"\u001b[0m\u001b[0;34m)\u001b[0m\u001b[0;34m\u001b[0m\u001b[0;34m\u001b[0m\u001b[0m\n\u001b[1;32m      5\u001b[0m \u001b[0mprint\u001b[0m\u001b[0;34m(\u001b[0m\u001b[0mmol\u001b[0m\u001b[0;34m.\u001b[0m\u001b[0mrepresentation\u001b[0m\u001b[0;34m)\u001b[0m\u001b[0;34m\u001b[0m\u001b[0;34m\u001b[0m\u001b[0m\n",
            "\u001b[0;31mNameError\u001b[0m: name 'qml' is not defined"
          ]
        }
      ]
    },
    {
      "cell_type": "markdown",
      "metadata": {
        "id": "K-LITdNfa3E9",
        "colab_type": "text"
      },
      "source": [
        "The representations are simply stored as 1D-vectors.\n",
        "Note the keyword <font color=red>size</font> which is the largest number of atoms in a molecule occurring in test or training set. \n",
        "Additionally, the coulomb matrix can take a sorting scheme as keyword, and the BoB representations requires the specifications of how many atoms of a certain type to make room for in the representations.\n",
        "\n",
        "Lastly, you can print the following properties which is read from the XYZ file:"
      ]
    },
    {
      "cell_type": "code",
      "metadata": {
        "id": "7zzhMV1LyNsB",
        "colab_type": "code",
        "outputId": "90948d08-c875-41d5-9ec7-b5879ed1382c",
        "colab": {
          "base_uri": "https://localhost:8080/",
          "height": 325
        }
      },
      "source": [
        "\n",
        "sys.path.append('/content/tutorial')\n",
        "from tutorial.tutorial_data import compounds"
      ],
      "execution_count": 0,
      "outputs": [
        {
          "output_type": "error",
          "ename": "FileNotFoundError",
          "evalue": "ignored",
          "traceback": [
            "\u001b[0;31m---------------------------------------------------------------------------\u001b[0m",
            "\u001b[0;31mFileNotFoundError\u001b[0m                         Traceback (most recent call last)",
            "\u001b[0;32m<ipython-input-10-5c85bc1c3feb>\u001b[0m in \u001b[0;36m<module>\u001b[0;34m()\u001b[0m\n\u001b[0;32m----> 1\u001b[0;31m \u001b[0;32mfrom\u001b[0m \u001b[0mtutorial\u001b[0m\u001b[0;34m.\u001b[0m\u001b[0mtutorial_data\u001b[0m \u001b[0;32mimport\u001b[0m \u001b[0mcompounds\u001b[0m\u001b[0;34m\u001b[0m\u001b[0;34m\u001b[0m\u001b[0m\n\u001b[0m",
            "\u001b[0;32m/content/tutorial/tutorial_data.py\u001b[0m in \u001b[0;36m<module>\u001b[0;34m()\u001b[0m\n\u001b[1;32m     33\u001b[0m     \u001b[0;32mreturn\u001b[0m \u001b[0menergies\u001b[0m\u001b[0;34m\u001b[0m\u001b[0;34m\u001b[0m\u001b[0m\n\u001b[1;32m     34\u001b[0m \u001b[0;34m\u001b[0m\u001b[0m\n\u001b[0;32m---> 35\u001b[0;31m \u001b[0mqm7_dft_energy\u001b[0m \u001b[0;34m=\u001b[0m \u001b[0mget_energies\u001b[0m\u001b[0;34m(\u001b[0m\u001b[0;34m\"hof_qm7.txt\"\u001b[0m\u001b[0;34m,\u001b[0m \u001b[0mkey\u001b[0m\u001b[0;34m=\u001b[0m\u001b[0;34m\"dft\"\u001b[0m\u001b[0;34m)\u001b[0m\u001b[0;34m\u001b[0m\u001b[0;34m\u001b[0m\u001b[0m\n\u001b[0m\u001b[1;32m     36\u001b[0m \u001b[0mqm7_delta_energy\u001b[0m \u001b[0;34m=\u001b[0m \u001b[0mget_energies\u001b[0m\u001b[0;34m(\u001b[0m\u001b[0;34m\"hof_qm7.txt\"\u001b[0m\u001b[0;34m,\u001b[0m \u001b[0mkey\u001b[0m \u001b[0;34m=\u001b[0m \u001b[0;34m\"delta\"\u001b[0m\u001b[0;34m)\u001b[0m\u001b[0;34m\u001b[0m\u001b[0;34m\u001b[0m\u001b[0m\n\u001b[1;32m     37\u001b[0m \u001b[0;34m\u001b[0m\u001b[0m\n",
            "\u001b[0;32m/content/tutorial/tutorial_data.py\u001b[0m in \u001b[0;36mget_energies\u001b[0;34m(filename, key)\u001b[0m\n\u001b[1;32m     10\u001b[0m     \"\"\"\n\u001b[1;32m     11\u001b[0m \u001b[0;34m\u001b[0m\u001b[0m\n\u001b[0;32m---> 12\u001b[0;31m     \u001b[0mf\u001b[0m \u001b[0;34m=\u001b[0m \u001b[0mopen\u001b[0m\u001b[0;34m(\u001b[0m\u001b[0mfilename\u001b[0m\u001b[0;34m,\u001b[0m \u001b[0;34m\"r\"\u001b[0m\u001b[0;34m)\u001b[0m\u001b[0;34m\u001b[0m\u001b[0;34m\u001b[0m\u001b[0m\n\u001b[0m\u001b[1;32m     13\u001b[0m     \u001b[0mlines\u001b[0m \u001b[0;34m=\u001b[0m \u001b[0mf\u001b[0m\u001b[0;34m.\u001b[0m\u001b[0mreadlines\u001b[0m\u001b[0;34m(\u001b[0m\u001b[0;34m)\u001b[0m\u001b[0;34m\u001b[0m\u001b[0;34m\u001b[0m\u001b[0m\n\u001b[1;32m     14\u001b[0m     \u001b[0mf\u001b[0m\u001b[0;34m.\u001b[0m\u001b[0mclose\u001b[0m\u001b[0;34m(\u001b[0m\u001b[0;34m)\u001b[0m\u001b[0;34m\u001b[0m\u001b[0;34m\u001b[0m\u001b[0m\n",
            "\u001b[0;31mFileNotFoundError\u001b[0m: [Errno 2] No such file or directory: 'hof_qm7.txt'"
          ]
        }
      ]
    },
    {
      "cell_type": "code",
      "metadata": {
        "id": "63NLV06MQkcN",
        "colab_type": "code",
        "colab": {}
      },
      "source": [
        "!cp drive/\"My Drive\"/Master/Kaishi/qml/qml_dr_obabel.py .\n",
        "!cp drive/\"My Drive\"/Master/Kaishi/qml/obabel_dG.txt .\n",
        "from qml_dr_obabel import compounds"
      ],
      "execution_count": 0,
      "outputs": []
    },
    {
      "cell_type": "code",
      "metadata": {
        "id": "Lg_fq9dnVEZH",
        "colab_type": "code",
        "colab": {}
      },
      "source": [
        "#!rm qml_dr_obabel.py"
      ],
      "execution_count": 0,
      "outputs": []
    },
    {
      "cell_type": "code",
      "metadata": {
        "id": "uSzOYenka3FB",
        "colab_type": "code",
        "colab": {}
      },
      "source": [
        "# Print other properties stored in the object\n",
        "print(mol.coordinates)\n",
        "print(mol.atomtypes)\n",
        "print(mol.nuclear_charges)\n",
        "print(mol.name)\n",
        "print(mol.unit_cell)"
      ],
      "execution_count": 0,
      "outputs": []
    },
    {
      "cell_type": "code",
      "metadata": {
        "id": "WXQDJVGIqhlO",
        "colab_type": "code",
        "outputId": "8c8eabe7-19d0-4ec7-d015-4a448043aae7",
        "colab": {
          "base_uri": "https://localhost:8080/",
          "height": 35
        }
      },
      "source": [
        "compounds[0].name, compounds[0].properties\n",
        "#compounds"
      ],
      "execution_count": 0,
      "outputs": [
        {
          "output_type": "execute_result",
          "data": {
            "text/plain": [
              "('drive/My Drive/Master/Kaishi/qml/obabel-xyz/2185+0.xyz', 19.802231799748792)"
            ]
          },
          "metadata": {
            "tags": []
          },
          "execution_count": 10
        }
      ]
    },
    {
      "cell_type": "markdown",
      "metadata": {
        "id": "NleYAyOya3Ff",
        "colab_type": "text"
      },
      "source": [
        "# Exercise 2: Kernels\n",
        "\n",
        "In this exercise we generate a Gaussian kernel matrix, \n",
        "\n",
        "\\begin{equation*}\n",
        "\\mathbf{K}\n",
        "\\end{equation*}\n",
        "\n",
        "using the representations\n",
        "\n",
        "\\begin{equation*}\n",
        "\\mathbf{X}\n",
        "\\end{equation*}\n",
        "\n",
        "which are generated similarly to the example in the previous exercise:\n",
        "\n",
        "\\begin{equation*}\n",
        "K_{ij} = \\exp\\left( -\\frac{\\| \\mathbf{X}_i - \\mathbf{X}_j\\|_2^2}{2\\sigma^2}\\right)\n",
        "\\end{equation*}\n",
        "\n",
        "QML supplies functions to generate the most basic kernels (E.g. Gaussian, Laplacian). In the exercise below, we calculate a Gaussian kernel for the QM7 dataset.\n",
        "In order to save time you can import the entire QM7 dataset as  <font color=red>Compound</font> objects from the file  <font color=red>tutorial_data.py</font> found in the tutorial GitHub repository."
      ]
    },
    {
      "cell_type": "code",
      "metadata": {
        "id": "yI47ybcMc82o",
        "colab_type": "code",
        "colab": {}
      },
      "source": [
        ""
      ],
      "execution_count": 0,
      "outputs": []
    },
    {
      "cell_type": "code",
      "metadata": {
        "id": "vwHFIgRNa3Fi",
        "colab_type": "code",
        "outputId": "7e0e058e-6e8d-4c89-efc4-163b5add6540",
        "colab": {
          "base_uri": "https://localhost:8080/",
          "height": 384
        }
      },
      "source": [
        "# Import QM7, already parsed to QML\n",
        "#from tutorial.tutorial_data import compounds\n",
        "\n",
        "# For every compound generate a coulomb matrix or BoB\n",
        "for mol in compounds:\n",
        "\n",
        "    mol.generate_coulomb_matrix(size=50, sorting=\"row-norm\")\n",
        "    # mol.generate_bob(size=23, asize={\"O\":3, \"C\":7, \"N\":3, \"H\":16, \"S\":1})\n",
        "\n",
        "# Make a big 2D array with all the representations\n",
        "X = np.array([mol.representation for mol in compounds])\n",
        "\n",
        "# Print all representations\n",
        "print(X)\n",
        "n=4000\n",
        "n=4794\n",
        "# Run on only a subset of the first 1000 (for speed)\n",
        "X = X[:n]\n",
        "\n",
        "# Define the kernel width\n",
        "sigma = 1000.0\n",
        "\n",
        "# K is also a Numpy array\n",
        "K = gaussian_kernel(X, X, sigma)\n",
        "\n",
        "# Print the kernel\n",
        "print(K)"
      ],
      "execution_count": 0,
      "outputs": [
        {
          "output_type": "stream",
          "text": [
            "[[ 73.51669472  39.9972106   53.3587074  ...   0.           0.\n",
            "    0.        ]\n",
            " [448.79438598  11.61622384  73.51669472 ...   0.           0.\n",
            "    0.        ]\n",
            " [ 73.51669472  11.81274561  73.51669472 ...   0.           0.\n",
            "    0.        ]\n",
            " ...\n",
            " [ 73.51669472  28.0779848   73.51669472 ...   0.           0.\n",
            "    0.        ]\n",
            " [388.02344103  87.90710187  73.51669472 ...   0.           0.\n",
            "    0.        ]\n",
            " [ 53.3587074   32.56476647  36.8581052  ...   0.           0.\n",
            "    0.        ]]\n",
            "[[1.         0.90604559 0.99403093 ... 0.94358486 0.89777439 0.89989695]\n",
            " [0.90604559 1.         0.90449117 ... 0.96497831 0.97654598 0.9622612 ]\n",
            " [0.99403093 0.90449117 1.         ... 0.94194341 0.89700917 0.89936837]\n",
            " ...\n",
            " [0.94358486 0.96497831 0.94194341 ... 1.         0.95671555 0.95203961]\n",
            " [0.89777439 0.97654598 0.89700917 ... 0.95671555 1.         0.95760516]\n",
            " [0.89989695 0.9622612  0.89936837 ... 0.95203961 0.95760516 1.        ]]\n"
          ],
          "name": "stdout"
        }
      ]
    },
    {
      "cell_type": "markdown",
      "metadata": {
        "id": "K8jpZ3MNa3F1",
        "colab_type": "text"
      },
      "source": [
        "## Exercise 3: Regression\n",
        "\n",
        "With the kernel matrix and representations sorted out in the previous two exercise, we can now solve the \n",
        "\n",
        "\\begin{equation*}\n",
        "\\boldsymbol{\\alpha}\n",
        "\\end{equation*} \n",
        "\n",
        "regression coefficients:\n",
        "\n",
        "\\begin{equation*}\n",
        "\\boldsymbol{\\alpha} = (\\mathbf{K} + \\lambda \\mathbf{I})^{-1} \\mathbf{y}\n",
        "\\end{equation*}\n",
        "\n",
        "One of the most efficient ways of solving this equation is using a Cholesky-decomposition.\n",
        "QML includes a function named <font color=red>cho_solve()</font> to do this via the math module <font color=red>qml.math</font>.\n",
        "In this step it is convenient to only use a subset of the full dataset as training data (see below).\n",
        "The following builds on the code from the previous step.\n",
        "To save time, you can import the PBE0/def2-TZVP atomization energies for the QM7 dataset from the file <font color=red>tutorial_data.py</font>.\n",
        "This has been sorted to match the ordering of the representations generated in the previous exercise.\n",
        "Extend your code from the previous step with the code below:\n"
      ]
    },
    {
      "cell_type": "code",
      "metadata": {
        "id": "4pFGqSFwa3F6",
        "colab_type": "code",
        "outputId": "32bd664f-8abf-4560-fdc1-92543940f1f6",
        "colab": {
          "base_uri": "https://localhost:8080/",
          "height": 219
        }
      },
      "source": [
        "from qml_dr_obabel import energy_pbe0\n",
        "\n",
        "# Assign 1000 first molecules to the training set\n",
        "\n",
        "X_training = X[:n]\n",
        "Y_training = energy_pbe0[:n]\n",
        "\n",
        "sigma = 4000.0\n",
        "K = gaussian_kernel(X_training, X_training, sigma)\n",
        "print(K)\n",
        "\n",
        "# Add a small lambda to the diagonal of the kernel matrix\n",
        "K[np.diag_indices_from(K)] += 1e-8\n",
        "\n",
        "print(len(K))\n",
        "print(len(Y_training))\n",
        "\n",
        "\n",
        "# Use the built-in Cholesky-decomposition to solve\n",
        "alpha = cho_solve(K, Y_training)\n",
        "\n",
        "print(alpha)"
      ],
      "execution_count": 0,
      "outputs": [
        {
          "output_type": "stream",
          "text": [
            "[[1.         0.99385237 0.99962589 ... 0.99637727 0.99328288 0.99342949]\n",
            " [0.99385237 1.         0.99374572 ... 0.99777438 0.99851776 0.99759855]\n",
            " [0.99962589 0.99374572 1.         ... 0.99626885 0.99322995 0.99339301]\n",
            " ...\n",
            " [0.99637727 0.99777438 0.99626885 ... 1.         0.99723825 0.99693292]\n",
            " [0.99328288 0.99851776 0.99322995 ... 0.99723825 1.         0.99729618]\n",
            " [0.99342949 0.99759855 0.99339301 ... 0.99693292 0.99729618 1.        ]]\n",
            "4794\n",
            "4794\n",
            "[-10613872.26396403   2710438.7870555  -41759779.67568721 ...\n",
            " -87904899.25142123   -699698.0908894   -1824947.99455947]\n"
          ],
          "name": "stdout"
        }
      ]
    },
    {
      "cell_type": "markdown",
      "metadata": {
        "id": "J_TlU4bNa3GR",
        "colab_type": "text"
      },
      "source": [
        "## Exercise 4: Prediction\n",
        "\n",
        "With the\n",
        "\n",
        "\\begin{equation*}\n",
        "\\boldsymbol{\\alpha}\n",
        "\\end{equation*}\n",
        "\n",
        "regression coefficients from the previous step, we have (successfully) trained the machine, and we are now ready to do predictions for other compounds.\n",
        "This is done using the following equation:\n",
        "    \n",
        "\\begin{equation*}\n",
        "y\\left(\\widetilde{\\mathbf{X}} \\right) = \\sum_i \\alpha_i \\  K\\left( \\widetilde{\\mathbf{X}}, \\mathbf{X}_i\\right)\n",
        "\\end{equation*}\n",
        "\n",
        "In this step we further divide the dataset into a training and a test set. Try using the last 1000 entries as test set."
      ]
    },
    {
      "cell_type": "code",
      "metadata": {
        "id": "FatXpeaka3GS",
        "colab_type": "code",
        "outputId": "9591b34b-fe1c-4e7c-8bfa-286885194faa",
        "colab": {
          "base_uri": "https://localhost:8080/",
          "height": 54
        }
      },
      "source": [
        "# Assign 1000 last molecules to the test set\n",
        "m=len(compounds)-n\n",
        "X_test = X[-m:]\n",
        "Y_test = energy_pbe0[-m:]\n",
        "\n",
        "# calculate a kernel matrix between test and training data, using the same sigma\n",
        "Ks = gaussian_kernel(X_test, X_training, sigma)\n",
        "\n",
        "# Make the predictions\n",
        "Y_predicted = np.dot(Ks, alpha)\n",
        "print(Y_predicted.shape,)\n",
        "# Calculate mean-absolute-error (MAE):\n",
        "print(np.mean(np.abs(Y_predicted - Y_test)))"
      ],
      "execution_count": 0,
      "outputs": [
        {
          "output_type": "stream",
          "text": [
            "(1198,)\n",
            "2.5392656968437994\n"
          ],
          "name": "stdout"
        }
      ]
    },
    {
      "cell_type": "markdown",
      "metadata": {
        "id": "FQsJnS30a3Gi",
        "colab_type": "text"
      },
      "source": [
        "## Exercise 5: Learning curves\n",
        "\n",
        "Repeat the prediction from Exercise 2.4 with training set sizes of 1000, 2000, and 4000 molecules.\n",
        "\n",
        "Note the MAE for every training size.\n",
        "\n",
        "Plot a learning curve of the MAE versus the training set size.\n",
        "\n",
        "Generate a learning curve for the Gaussian and Laplacian kernels, as well using the coulomb matrix and bag-of-bonds representations.\n",
        "\n",
        "Which combination gives the best learning curve? Note you will have to adjust the kernel width (sigma) underway."
      ]
    },
    {
      "cell_type": "code",
      "metadata": {
        "id": "wjZv99vFa3Go",
        "colab_type": "code",
        "colab": {}
      },
      "source": [
        "2.5392656968437994 pKa"
      ],
      "execution_count": 0,
      "outputs": []
    },
    {
      "cell_type": "markdown",
      "metadata": {
        "id": "eDLBXuz8a3HA",
        "colab_type": "text"
      },
      "source": [
        "## Exercise 6: Delta learning\n",
        "\n",
        "A powerful technique in machine learning is the delta learning approach. Instead of predicting the PBE0/def2-TZVP atomization energies, we shall try to predict the difference between DFTB3 (a semi-empirical quantum method) and PBE0 atomization energies.\n",
        "Instead of importing the <font color=red>energy_pbe0</font> data, you can import the <font color=red>energy_delta</font> and use this instead"
      ]
    },
    {
      "cell_type": "code",
      "metadata": {
        "id": "MuQRUaRga3HE",
        "colab_type": "code",
        "colab": {}
      },
      "source": [
        "from tutorial_data import energy_delta\n",
        "\n",
        "Y_training = energy_delta[:1000]\n",
        "Y_test = energy_delta[-1000:]"
      ],
      "execution_count": 0,
      "outputs": []
    },
    {
      "cell_type": "markdown",
      "metadata": {
        "id": "EcaG4G6Da3Hh",
        "colab_type": "text"
      },
      "source": [
        "Finally re-draw one of the learning curves from the previous exercise, and note how the prediction improves."
      ]
    },
    {
      "cell_type": "code",
      "metadata": {
        "id": "NpmIVzFNa3Hl",
        "colab_type": "code",
        "colab": {}
      },
      "source": [
        ""
      ],
      "execution_count": 0,
      "outputs": []
    },
    {
      "cell_type": "code",
      "metadata": {
        "id": "QfmrWANh6F_T",
        "colab_type": "code",
        "outputId": "7d97545c-4e0e-4315-b8c0-50228832e9ec",
        "colab": {
          "base_uri": "https://localhost:8080/",
          "height": 623
        }
      },
      "source": [
        "# Import QM7, already parsed to QML\n",
        "#from tutorial.tutorial_data import compounds\n",
        "\n",
        "# For every compound generate a coulomb matrix or BoB\n",
        "for mol in compounds:\n",
        "\n",
        "    mol.generate_coulomb_matrix(size=50, sorting=\"row-norm\")\n",
        "    # mol.generate_bob(size=23, asize={\"O\":3, \"C\":7, \"N\":3, \"H\":16, \"S\":1})\n",
        "\n",
        "# Make a big 2D array with all the representations\n",
        "X = np.array([mol.representation for mol in compounds])\n",
        "\n",
        "# Print all representations\n",
        "print(X)\n",
        "n=4000\n",
        "n=4794\n",
        "# Run on only a subset of the first 1000 (for speed)\n",
        "X = X[:n]\n",
        "\n",
        "# Define the kernel width\n",
        "sigma = 1000.0\n",
        "\n",
        "# K is also a Numpy array\n",
        "K = laplacian_kernel(X, X, sigma)\n",
        "\n",
        "# Print the kernel\n",
        "print(K)\n",
        "\n",
        "from qml_dr_obabel import energy_pbe0\n",
        "\n",
        "# Assign 1000 first molecules to the training set\n",
        "\n",
        "X_training = X[:n]\n",
        "Y_training = energy_pbe0[:n]\n",
        "\n",
        "sigma = 4000.0\n",
        "K = laplacian_kernel(X_training, X_training, sigma)\n",
        "print(K)\n",
        "\n",
        "# Add a small lambda to the diagonal of the kernel matrix\n",
        "K[np.diag_indices_from(K)] += 1e-8\n",
        "\n",
        "print(len(K))\n",
        "print(len(Y_training))\n",
        "\n",
        "\n",
        "# Use the built-in Cholesky-decomposition to solve\n",
        "alpha = cho_solve(K, Y_training)\n",
        "\n",
        "print(alpha)\n",
        "\n",
        "# Assign 1000 last molecules to the test set\n",
        "m=len(compounds)-n\n",
        "X_test = X[-m:]\n",
        "Y_test = energy_pbe0[-m:]\n",
        "\n",
        "# calculate a kernel matrix between test and training data, using the same sigma\n",
        "Ks = laplacian_kernel(X_test, X_training, sigma)\n",
        "\n",
        "# Make the predictions\n",
        "Y_predicted = np.dot(Ks, alpha)\n",
        "print(Y_predicted.shape,)\n",
        "# Calculate mean-absolute-error (MAE):\n",
        "print(np.mean(np.abs(Y_predicted - Y_test)))"
      ],
      "execution_count": 0,
      "outputs": [
        {
          "output_type": "stream",
          "text": [
            "[[ 73.51669472  39.9972106   53.3587074  ...   0.           0.\n",
            "    0.        ]\n",
            " [448.79438598  11.61622384  73.51669472 ...   0.           0.\n",
            "    0.        ]\n",
            " [ 73.51669472  11.81274561  73.51669472 ...   0.           0.\n",
            "    0.        ]\n",
            " ...\n",
            " [ 73.51669472  28.0779848   73.51669472 ...   0.           0.\n",
            "    0.        ]\n",
            " [388.02344103  87.90710187  73.51669472 ...   0.           0.\n",
            "    0.        ]\n",
            " [ 53.3587074   32.56476647  36.8581052  ...   0.           0.\n",
            "    0.        ]]\n",
            "[[1.         0.02466138 0.44175017 ... 0.33631362 0.00949206 0.00701722]\n",
            " [0.02466138 1.         0.02130759 ... 0.02861298 0.0447762  0.03589143]\n",
            " [0.44175017 0.02130759 1.         ... 0.27990503 0.00887682 0.00644736]\n",
            " ...\n",
            " [0.33631362 0.02861298 0.27990503 ... 1.         0.012205   0.0118404 ]\n",
            " [0.00949206 0.0447762  0.00887682 ... 0.012205   1.         0.0183275 ]\n",
            " [0.00701722 0.03589143 0.00644736 ... 0.0118404  0.0183275  1.        ]]\n",
            "[[1.         0.396282   0.81525633 ... 0.76152842 0.31213331 0.28942845]\n",
            " [0.396282   1.         0.38206178 ... 0.41128302 0.46000421 0.43525893]\n",
            " [0.81525633 0.38206178 1.         ... 0.72736546 0.30694766 0.28336452]\n",
            " ...\n",
            " [0.76152842 0.41128302 0.72736546 ... 1.         0.33237966 0.32986909]\n",
            " [0.31213331 0.46000421 0.30694766 ... 0.33237966 1.         0.36793901]\n",
            " [0.28942845 0.43525893 0.28336452 ... 0.32986909 0.36793901 1.        ]]\n",
            "4794\n",
            "4794\n",
            "[-141.07101857   -8.26002679  203.49910084 ...  -83.56112825    2.81626564\n",
            "   -6.79845519]\n",
            "(1198,)\n",
            "6.364821285728011\n"
          ],
          "name": "stdout"
        }
      ]
    },
    {
      "cell_type": "code",
      "metadata": {
        "id": "l4yqFRra6wIl",
        "colab_type": "code",
        "colab": {}
      },
      "source": [
        ""
      ],
      "execution_count": 0,
      "outputs": []
    }
  ]
}